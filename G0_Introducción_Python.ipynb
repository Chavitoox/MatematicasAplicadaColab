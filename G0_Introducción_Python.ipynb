{
  "nbformat": 4,
  "nbformat_minor": 0,
  "metadata": {
    "colab": {
      "provenance": [],
      "include_colab_link": true
    },
    "kernelspec": {
      "name": "python3",
      "display_name": "Python 3"
    },
    "language_info": {
      "name": "python"
    }
  },
  "cells": [
    {
      "cell_type": "markdown",
      "metadata": {
        "id": "view-in-github",
        "colab_type": "text"
      },
      "source": [
        "<a href=\"https://colab.research.google.com/github/Chavitoox/MatematicasAplicadaColab/blob/main/G0_Introducci%C3%B3n_Python.ipynb\" target=\"_parent\"><img src=\"https://colab.research.google.com/assets/colab-badge.svg\" alt=\"Open In Colab\"/></a>"
      ]
    },
    {
      "cell_type": "markdown",
      "source": [
        "# Problema 1"
      ],
      "metadata": {
        "id": "t48ZzDLtux0T"
      }
    },
    {
      "cell_type": "markdown",
      "source": [
        "Escribe un código que pida al usuario ingresar un número real y determine si el número ingresado es positivo, negativo o cero."
      ],
      "metadata": {
        "id": "cWCfLm-fvNTx"
      }
    },
    {
      "cell_type": "code",
      "source": [
        "numero=float(input (\"Ingrese un número: \"))\n",
        "if numero > 0:\n",
        "  print(\"El número es positivo\")\n",
        "elif numero < 0:\n",
        "  print(\"El número es negativo\")\n",
        "else:\n",
        "  print(\"El número es cero\")"
      ],
      "metadata": {
        "colab": {
          "base_uri": "https://localhost:8080/"
        },
        "collapsed": true,
        "id": "p-NVb2qFmOaD",
        "outputId": "1fd42b7b-1a51-428a-bb25-bf7d6fbe6aa9"
      },
      "execution_count": null,
      "outputs": [
        {
          "output_type": "stream",
          "name": "stdout",
          "text": [
            "Ingrese un número: 0\n",
            "El número es cero\n"
          ]
        }
      ]
    },
    {
      "cell_type": "markdown",
      "source": [
        "# Problema 2"
      ],
      "metadata": {
        "id": "6civkm_Pwf1B"
      }
    },
    {
      "cell_type": "markdown",
      "source": [
        "Escribe un código que pida al usuario ingresar un número entero y que determine si el número ingresado es par o impar.\n"
      ],
      "metadata": {
        "id": "rjeAxtJ4x9h6"
      }
    },
    {
      "cell_type": "code",
      "source": [
        "# Cuando utilizamos %, nos da a conocer el resto de una división\n",
        "numero = int(input(\"Ingrese un número entero: \"))\n",
        "if numero % 2 == 0:\n",
        "  print(f\"El número {numero} es par.\")\n",
        "else:\n",
        "  print(f\"El número {numero} es impar.\")"
      ],
      "metadata": {
        "colab": {
          "base_uri": "https://localhost:8080/"
        },
        "id": "Hr200b3Nr3oj",
        "outputId": "dd3cbcdc-860f-427e-ce6d-93c83de332af"
      },
      "execution_count": null,
      "outputs": [
        {
          "output_type": "stream",
          "name": "stdout",
          "text": [
            "Ingrese un número entero: 10\n",
            "El número 10 es par.\n"
          ]
        }
      ]
    },
    {
      "cell_type": "markdown",
      "source": [
        "# Problema 3"
      ],
      "metadata": {
        "id": "rLA34mTgxuSf"
      }
    },
    {
      "cell_type": "markdown",
      "source": [
        "Escribe un código que, mediante un ciclo *while*, sume los primeros $100$ números naturales."
      ],
      "metadata": {
        "id": "6E3zFuZSwigv"
      }
    },
    {
      "cell_type": "code",
      "source": [
        "n= 0\n",
        "suma = 0\n",
        "while n <= 100:\n",
        "  suma += n\n",
        "  n += 1\n",
        "print(f\"La suma de los 100 primero números naturales es {suma}\")"
      ],
      "metadata": {
        "id": "37MKVQpvTJm3",
        "outputId": "726b53ad-bdaa-4904-a856-4c49c099b505",
        "colab": {
          "base_uri": "https://localhost:8080/"
        }
      },
      "execution_count": 14,
      "outputs": [
        {
          "output_type": "stream",
          "name": "stdout",
          "text": [
            "La suma de los 100 primero números naturales es 5050\n"
          ]
        }
      ]
    },
    {
      "cell_type": "markdown",
      "source": [
        "# Problema 4"
      ],
      "metadata": {
        "id": "pZpuARSKz4zw"
      }
    },
    {
      "cell_type": "markdown",
      "source": [
        "Escribe un código que almacene en una variable el *string* \"Contraseña\". Luego, el programa debe solicitar al usuario \"Introducir contraseña\", hasta que la palabra ingresada sea correcta. <sup><a href=\"#footnote1\" id=\"ref1\">1</a></sup>\n",
        "\n",
        "\n",
        "<p id=\"footnote1\"><sup>1</sup> String: Tipo de dato que almacena texto."
      ],
      "metadata": {
        "id": "SxGOLjlnz6y_"
      }
    },
    {
      "cell_type": "code",
      "source": [
        "contrasena = \"pipevio\"\n",
        "while True:\n",
        "  contrasena_usuario = input(\"Introducir contraseña: \")\n",
        "  if contrasena_usuario == contrasena:\n",
        "    print(\"Contraseña correcta\")\n",
        "    break\n",
        "  else:\n",
        "    print(\"Contraseña incorrecta, intentelo nuevamente.\")"
      ],
      "metadata": {
        "id": "H6wgsR8jTZjr",
        "outputId": "e78a4be4-e12c-4b66-8e5a-8a7ae87518f3",
        "colab": {
          "base_uri": "https://localhost:8080/"
        }
      },
      "execution_count": 15,
      "outputs": [
        {
          "output_type": "stream",
          "name": "stdout",
          "text": [
            "Introducir contraseña: jfslad\n",
            "Contraseña incorrecta, intentelo nuevamente.\n",
            "Introducir contraseña: Pipevio\n",
            "Contraseña correcta\n"
          ]
        }
      ]
    },
    {
      "cell_type": "markdown",
      "source": [
        "# Problema 5"
      ],
      "metadata": {
        "id": "bXAO6t1V1psK"
      }
    },
    {
      "cell_type": "markdown",
      "source": [
        "Escribe un código que, utilizando un ciclo *for*, pida al usuario ingresar un número entero y muestre la tabla de multiplicar desde el 1 al 12 de dicho número."
      ],
      "metadata": {
        "id": "nXwlwVHI11wC"
      }
    },
    {
      "cell_type": "code",
      "source": [
        "numero = int(input(\"Ingrese un número entero: \"))\n",
        "for i in range(1,13):\n",
        "  print(f\"{numero} x {i} = {numero*i}\")"
      ],
      "metadata": {
        "id": "l69W6mExS1Rz",
        "outputId": "c837f779-bd7c-47c1-acc1-a66146eb063c",
        "colab": {
          "base_uri": "https://localhost:8080/"
        }
      },
      "execution_count": 13,
      "outputs": [
        {
          "output_type": "stream",
          "name": "stdout",
          "text": [
            "Ingrese un número entero: 6\n",
            "6 x 1 = 6\n",
            "6 x 2 = 12\n",
            "6 x 3 = 18\n",
            "6 x 4 = 24\n",
            "6 x 5 = 30\n",
            "6 x 6 = 36\n",
            "6 x 7 = 42\n",
            "6 x 8 = 48\n",
            "6 x 9 = 54\n",
            "6 x 10 = 60\n",
            "6 x 11 = 66\n",
            "6 x 12 = 72\n"
          ]
        }
      ]
    },
    {
      "cell_type": "markdown",
      "source": [
        "# Problema 6"
      ],
      "metadata": {
        "id": "UroIuMyFCKax"
      }
    },
    {
      "cell_type": "markdown",
      "source": [
        "1. Escribe una función que reciba dos números y retorne el producto de los números recibidos.\n",
        "1. Escribe una nueva función que tome el producto calculado en el ítem anterior y redondee el valor al entero.\n",
        "1. Pide al usuario que ingrese dos números, y utiliza ambas funciones para imprimir el valor de la multiplicación redondeado al entero."
      ],
      "metadata": {
        "id": "VoiJyh0zCMzX"
      }
    },
    {
      "cell_type": "code",
      "source": [
        "def producto(a, b):\n",
        "\n",
        "  return a*b\n",
        "def redondeo(producto):\n",
        "  redondeado= round(producto)\n",
        "  return redondeado\n",
        "a = float(input(\"Ingrese el primer número: \"))\n",
        "b = float(input(\"Ingrese el segundo número: \"))\n",
        "producto = producto(a,b)\n",
        "redondeado = redondeo(producto)\n",
        "print(f\"El producto de {a} x {b} = {redondeado}\")\n"
      ],
      "metadata": {
        "id": "weLMnLhqR_mw",
        "outputId": "f4d1ad51-6b1c-46d0-928f-0ca5ec983299",
        "colab": {
          "base_uri": "https://localhost:8080/"
        }
      },
      "execution_count": 11,
      "outputs": [
        {
          "output_type": "stream",
          "name": "stdout",
          "text": [
            "Ingrese el primer número: 6\n",
            "Ingrese el segundo número: 9\n",
            "El producto de 6.0 x 9.0 = 54\n"
          ]
        }
      ]
    },
    {
      "cell_type": "markdown",
      "source": [
        "# Problema 7"
      ],
      "metadata": {
        "id": "GHMOEBgQDvUw"
      }
    },
    {
      "cell_type": "markdown",
      "source": [
        "La fórmula que permite convertir los grados Celsius a Fahrenheit es la siguiente:\n",
        "\n",
        "$$ F = \\frac{9}{5} C + 32$$\n",
        "\n",
        "1. Crea una función que permita realizar esta conversión.\n",
        "1. Luego, pide al usuario que ingrese la temperatura en grados Celsius y utiliza la función para calcular su equivalente en grados Fahrenheit.\n",
        "1. Imprime el resultado redondeado a la centésima."
      ],
      "metadata": {
        "id": "I77oq5plD50H"
      }
    },
    {
      "cell_type": "code",
      "source": [
        "def conversor(temp):\n",
        "    temp = 9/5 * temp +32\n",
        "    return temp\n",
        "\n",
        "while True:\n",
        "    try:\n",
        "        celsius = float(input(\"Ingrese los grados celsius: \"))\n",
        "        break\n",
        "    except:\n",
        "        print(\"Error, intentelo nuevamente\")\n",
        "conversion = conversor(celsius)\n",
        "print(f\"La conversión de {celsius::.2f}°C es {conversion:.2f}°F\")"
      ],
      "metadata": {
        "id": "hnaB7mzsKDtk",
        "outputId": "56185bb3-b9a4-4c9c-b893-db88477e17aa",
        "colab": {
          "base_uri": "https://localhost:8080/"
        }
      },
      "execution_count": 5,
      "outputs": [
        {
          "output_type": "stream",
          "name": "stdout",
          "text": [
            "Ingrese los grados celsius: 5\n",
            "La conversión de 5°C es 41.00°F\n"
          ]
        }
      ]
    },
    {
      "cell_type": "markdown",
      "source": [
        "# Problema 8"
      ],
      "metadata": {
        "id": "yC4Sju1KGQFn"
      }
    },
    {
      "cell_type": "markdown",
      "source": [
        "1. Escribe un código que importe el módulo *random* y utiliza la función *randint()* para generar diez números aleatorios entre $1$ y $100$, y almacénalos en una lista.\n",
        "1. Imprime en pantalla la lista con los diez números generados.\n",
        "1. Utiliza la indexación en *Python* para acceder al segundo y sexto elemento de la lista. Ten en cuenta que en *Python* los índices comienzan en $0$. ¿Cómo imprimirías estos elementos?"
      ],
      "metadata": {
        "id": "Qw6j4zbSG0NH"
      }
    },
    {
      "cell_type": "code",
      "source": [
        "import random\n",
        "lista = []\n",
        "i= 0\n",
        "while i < 10:\n",
        "  lista.append(random.randint(1,100))\n",
        "  i+=1\n",
        "print(lista)\n",
        "print(lista[1])\n",
        "print(lista[5])"
      ],
      "metadata": {
        "id": "IQGxp5JCLPwu",
        "outputId": "af5dddd0-cfab-4f28-baa7-9f23e606e1b2",
        "colab": {
          "base_uri": "https://localhost:8080/"
        }
      },
      "execution_count": 6,
      "outputs": [
        {
          "output_type": "stream",
          "name": "stdout",
          "text": [
            "[82, 60, 97, 67, 70, 47, 42, 64, 26, 88]\n",
            "60\n",
            "47\n"
          ]
        }
      ]
    },
    {
      "cell_type": "markdown",
      "source": [
        "# Problema 9"
      ],
      "metadata": {
        "id": "qlwdqEfzHrL_"
      }
    },
    {
      "cell_type": "markdown",
      "source": [
        "El Índice de Masa Corporal (IMC) es una medida que se utiliza para evaluar si una persona se encuentra en un peso saludable con respecto a su estatura. La fórmula para calcular esta medida es:\n",
        "\n",
        "<br>\n",
        "\n",
        "$$ \\textrm{IMC} = \\frac{\\textrm{peso} \\ \\ (\\textrm{kg})}{(\\textrm{altura} \\ \\ (\\textrm{m}))^{2}}$$\n",
        "\n",
        "<br>\n",
        "\n",
        "El valor obtenido con el IMC, de acuerdo con la Organización Mundial de la Salud (OMS) indica si la persona tiene un peso bajo, normal, sobrepeso u obesidad. La clasificación es la siguiente:\n",
        "\n",
        "<br>\n",
        "\n",
        "* Bajo peso: IMC menor a $18,5 \\ \\  \\textrm{kg/m}^{2}$\n",
        "* Peso normal: IMC entre $18,5 \\ \\ \\textrm{kg/m}^{2}$ y $24,9 \\ \\ \\textrm{kg/m}^{2}$\n",
        "* Sobrepeso: IMC entre $25 \\ \\ \\textrm{kg/m}^{2}$ y $29,9 \\ \\ \\textrm{kg/m}^{2}$\n",
        "* Obesidad: IMC de $30 \\ \\ \\textrm{kg/m}^{2}$ o mayor\n",
        "\n",
        "<br>\n",
        "\n",
        "Aunque el IMC es una forma eficaz de evaluar el peso, no tiene en cuenta factores como la distribución de grasa, la masa muscular y otros rasgos de la salud física.\n",
        "\n",
        "<br>\n",
        "\n",
        "1. Considerando la información entregada, implementa un código que permita calcular mediante una función, el valor del IMC de una persona. Luego, solicita al usuario valores de masa y altura e indica, mediante el uso de condicionales, la categoría de la persona según el IMC calculado.\n",
        "1. Considera la siguiente tabla de valores, que muestra el peso y el IMC de once estudiantes. Guarda los valores del IMC en una lista e imprime en pantalla los estudiantes que, según el criterio de la OMS, están en **bajo peso**. Además, para cada IMC que esté en bajo peso, índica también el índice en la lista donde se encuentra.\n",
        "\n",
        "<p><center>\n",
        "\n",
        "| N°      | Peso $(\\textrm{kg})$ | IMC $(\\textrm{kg/m}^{2})$|\n",
        "|---------|----------------------|--------------------------|\n",
        "|$$ 1 $$  | $$29,5 $$            | $$16,43$$                |\n",
        "|$$ 2 $$  | $$37,3 $$            | $$19,31$$                |\n",
        "|$$ 3 $$  | $$38   $$            | $$10,25$$                |\n",
        "|$$ 4 $$  | $$31   $$            | $$18,63$$                |\n",
        "|$$ 5 $$  | $$36   $$            | $$17,85$$                |\n",
        "|$$ 6 $$  | $$40,4 $$            | $$19,76$$                |\n",
        "|$$ 7 $$  | $$47   $$            | $$23,64$$                |\n",
        "|$$ 8 $$  | $$43   $$            | $$21,94$$                |\n",
        "|$$ 9 $$  | $$36   $$            | $$21,3 $$                |\n",
        "|$$ 10$$  | $$40,1 $$            | $$22,67$$                |\n",
        "|$$ 11$$  | $$27   $$            | $$16,48$$                |\n",
        "\n",
        "</center></p>\n",
        "\n"
      ],
      "metadata": {
        "id": "iqH0iITmJH-P"
      }
    },
    {
      "cell_type": "code",
      "source": [
        "\n",
        "def imc(peso, altura):\n",
        "  return  peso/(altura**2)\n",
        "\n",
        "peso = float(input(\"Ingrese el peso: \"))\n",
        "altura = float(input(\"Ingrese la altura: \"))\n",
        "\n",
        "resultado = imc(peso, altura)\n",
        "if resultado < 18.5:\n",
        "  print(\"Se encuentra bajo de peso\")\n",
        "  print(f\"Su IMC es {resultado:.2f}\")\n",
        "elif 18.5 < resultado < 24.9:\n",
        "  print(\"ses encuentra en el peso normal\")\n",
        "  print(f\"Su IMC es {resultado:.2f}\")\n",
        "elif 25 < resultado < 29.9:\n",
        "  print(\"Se encuentra en sobrepeso\")\n",
        "  print(f\"Su IMC es {resultado:.2f}\")\n",
        "else:\n",
        "  print(\"Se encuentra en obesidad\")\n",
        "\n",
        "imc_lista = [16.43, 19.31, 10.25, 18.63, 17.85, 19.76, 23.64, 21.94, 21.3, 22.67, 16.48]\n",
        "\n",
        "for i in range(len(imc_lista)):\n",
        "  if imc_lista[i] < 18.5:\n",
        "    print(f\"El estudiante en el indice {i+1} se encuentra bajo de peso\")"
      ],
      "metadata": {
        "id": "Pq6lxD0eOgbO",
        "outputId": "b2db8d9a-7f63-4da5-f37b-adcc537505b6",
        "colab": {
          "base_uri": "https://localhost:8080/"
        }
      },
      "execution_count": 10,
      "outputs": [
        {
          "output_type": "stream",
          "name": "stdout",
          "text": [
            "Ingrese el peso: 80\n",
            "Ingrese la altura: 1.70\n",
            "Se encuentra en sobrepeso\n",
            "Su IMC es 27.68\n",
            "El estudiante en el indice 1 se encuentra bajo de peso\n",
            "El estudiante en el indice 3 se encuentra bajo de peso\n",
            "El estudiante en el indice 5 se encuentra bajo de peso\n",
            "El estudiante en el indice 11 se encuentra bajo de peso\n"
          ]
        }
      ]
    }
  ]
}